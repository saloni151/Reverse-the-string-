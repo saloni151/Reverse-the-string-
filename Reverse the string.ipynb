{
 "cells": [
  {
   "cell_type": "markdown",
   "id": "1d464f89-f1a6-4f40-a584-859a6b556c34",
   "metadata": {},
   "source": [
    "Write a program to take a string as an input and display that string in revers order as an Output."
   ]
  },
  {
   "cell_type": "code",
   "execution_count": 1,
   "id": "a593399c-18cc-4461-ae12-90744e225a42",
   "metadata": {},
   "outputs": [],
   "source": [
    "#giving input to variable a\n",
    "a=' i am saloni'"
   ]
  },
  {
   "cell_type": "code",
   "execution_count": 2,
   "id": "b82a989c-5515-4fe9-9cf5-d76f7c9f6f48",
   "metadata": {},
   "outputs": [
    {
     "name": "stdout",
     "output_type": "stream",
     "text": [
      "display the input: i am saloni\n"
     ]
    }
   ],
   "source": [
    "#display the input given to variable a using print function \n",
    "print('display the input:{}'.format(a))"
   ]
  },
  {
   "cell_type": "code",
   "execution_count": 3,
   "id": "55e33b55-0953-4abd-af7d-193a68e797f5",
   "metadata": {},
   "outputs": [],
   "source": [
    "#logic to start from backward \n",
    "b=a[::-1]"
   ]
  },
  {
   "cell_type": "code",
   "execution_count": 4,
   "id": "2f7d06d8-1b67-4c89-b1aa-9fa2b1f33b15",
   "metadata": {},
   "outputs": [
    {
     "name": "stdout",
     "output_type": "stream",
     "text": [
      "display the output:inolas ma i \n"
     ]
    }
   ],
   "source": [
    "#display the output given to variable b \n",
    "print('display the output:{}'.format(b))"
   ]
  },
  {
   "cell_type": "code",
   "execution_count": null,
   "id": "1e6b78f5-7c34-40e8-8eaf-c34cfc10303b",
   "metadata": {},
   "outputs": [],
   "source": []
  },
  {
   "cell_type": "code",
   "execution_count": null,
   "id": "a28ab14a-8ab4-4bac-b93f-9548bfc65b05",
   "metadata": {},
   "outputs": [],
   "source": []
  },
  {
   "cell_type": "code",
   "execution_count": null,
   "id": "b3093c32-7b02-4a34-baa9-d1ead552a09d",
   "metadata": {},
   "outputs": [],
   "source": []
  },
  {
   "cell_type": "code",
   "execution_count": null,
   "id": "000a049e-ac64-4d61-9f43-0719b1770602",
   "metadata": {},
   "outputs": [],
   "source": []
  }
 ],
 "metadata": {
  "kernelspec": {
   "display_name": "Python 3 (ipykernel)",
   "language": "python",
   "name": "python3"
  },
  "language_info": {
   "codemirror_mode": {
    "name": "ipython",
    "version": 3
   },
   "file_extension": ".py",
   "mimetype": "text/x-python",
   "name": "python",
   "nbconvert_exporter": "python",
   "pygments_lexer": "ipython3",
   "version": "3.12.7"
  }
 },
 "nbformat": 4,
 "nbformat_minor": 5
}
